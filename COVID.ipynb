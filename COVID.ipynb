{
 "cells": [
  {
   "cell_type": "code",
   "execution_count": 19,
   "metadata": {},
   "outputs": [
    {
     "data": {
      "text/plain": [
       "[['date',\n",
       "  'location',\n",
       "  'new_cases',\n",
       "  'new_deaths',\n",
       "  'total_cases',\n",
       "  'total_deaths'],\n",
       " ['2020-02-25', 'Afghanistan', '', '', '1', ''],\n",
       " ['2020-02-26', 'Afghanistan', '0', '', '1', ''],\n",
       " ['2020-02-27', 'Afghanistan', '0', '', '1', ''],\n",
       " ['2020-02-28', 'Afghanistan', '0', '', '1', '']]"
      ]
     },
     "execution_count": 19,
     "metadata": {},
     "output_type": "execute_result"
    }
   ],
   "source": [
    "import csv\n",
    "\n",
    "covid_data = open(\"/home/main/datax/covid19/full_data.csv\")\n",
    "covid = list(csv.reader(covid_data))\n",
    "covid[:5]"
   ]
  },
  {
   "cell_type": "code",
   "execution_count": 26,
   "metadata": {},
   "outputs": [
    {
     "name": "stdout",
     "output_type": "stream",
     "text": [
      "The number of worldwide cases is 167502\n"
     ]
    }
   ],
   "source": [
    "def worldwide_cases():\n",
    "        total_cases = (covid[-1][4])\n",
    "        return(total_cases)\n",
    "\n",
    "    \n",
    "print(\"The number of worldwide cases is \" + worldwide_cases())\n"
   ]
  },
  {
   "cell_type": "code",
   "execution_count": 27,
   "metadata": {},
   "outputs": [
    {
     "name": "stdout",
     "output_type": "stream",
     "text": [
      "The number of worldwide deaths is 6603\n"
     ]
    }
   ],
   "source": [
    "def worldwide_deaths():\n",
    "        total_deaths = (covid[-1][5])\n",
    "        return(total_deaths)\n",
    "print(\"The number of worldwide deaths is \" + worldwide_deaths())"
   ]
  },
  {
   "cell_type": "code",
   "execution_count": 29,
   "metadata": {},
   "outputs": [
    {
     "name": "stdout",
     "output_type": "stream",
     "text": [
      "The total death percent is 4%\n"
     ]
    }
   ],
   "source": [
    "def tdeathpercent():\n",
    "    cases = worldwide_cases()\n",
    "    deaths = worldwide_deaths()\n",
    "    total = int(deaths) / int(cases) * 100\n",
    "    total = round(total)\n",
    "    return str(total)\n",
    "    \n",
    "print(\"The total death percent is \" + tdeathpercent() + \"%\")"
   ]
  },
  {
   "cell_type": "code",
   "execution_count": 30,
   "metadata": {},
   "outputs": [
    {
     "name": "stdout",
     "output_type": "stream",
     "text": [
      "The total number of new cases are 13968\n"
     ]
    }
   ],
   "source": [
    "def tnewcases():\n",
    "    n_cases = (covid[-1][2])\n",
    "    return(n_cases)\n",
    "print(\"The total number of new cases are \" + tnewcases())"
   ]
  },
  {
   "cell_type": "code",
   "execution_count": null,
   "metadata": {},
   "outputs": [],
   "source": []
  }
 ],
 "metadata": {
  "kernelspec": {
   "display_name": "Python 3",
   "language": "python",
   "name": "python3"
  },
  "language_info": {
   "codemirror_mode": {
    "name": "ipython",
    "version": 3
   },
   "file_extension": ".py",
   "mimetype": "text/x-python",
   "name": "python",
   "nbconvert_exporter": "python",
   "pygments_lexer": "ipython3",
   "version": "3.7.6"
  }
 },
 "nbformat": 4,
 "nbformat_minor": 4
}
